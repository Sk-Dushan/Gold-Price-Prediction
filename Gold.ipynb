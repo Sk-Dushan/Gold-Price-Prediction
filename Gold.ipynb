{
  "cells": [
    {
      "cell_type": "code",
      "execution_count": null,
      "metadata": {
        "id": "EGP-fdvT109D"
      },
      "outputs": [],
      "source": [
        "import numpy as np\n",
        "import pandas as pd\n",
        "import matplotlib.pyplot as plt\n",
        "import seaborn as sns\n",
        "from sklearn.model_selection import train_test_split\n",
        "from sklearn.ensemble import RandomForestRegressor\n",
        "from sklearn import metrics"
      ]
    },
    {
      "cell_type": "code",
      "execution_count": null,
      "metadata": {
        "id": "Du6Sm8J94XUL"
      },
      "outputs": [],
      "source": [
        "# loading the csv data to a Pandas DataFrame\n",
        "gold_data = pd.read_csv('/content/DATA - Sheet1.csv')"
      ]
    },
    {
      "cell_type": "code",
      "execution_count": null,
      "metadata": {
        "colab": {
          "base_uri": "https://localhost:8080/",
          "height": 206
        },
        "id": "fSPrnKieARK5",
        "outputId": "323fd95c-0756-49da-9e4a-7df99cd25254"
      },
      "outputs": [
        {
          "data": {
            "text/html": [
              "\n",
              "  <div id=\"df-07d1b97f-4d5e-4e40-85fd-928612b1e173\">\n",
              "    <div class=\"colab-df-container\">\n",
              "      <div>\n",
              "<style scoped>\n",
              "    .dataframe tbody tr th:only-of-type {\n",
              "        vertical-align: middle;\n",
              "    }\n",
              "\n",
              "    .dataframe tbody tr th {\n",
              "        vertical-align: top;\n",
              "    }\n",
              "\n",
              "    .dataframe thead th {\n",
              "        text-align: right;\n",
              "    }\n",
              "</style>\n",
              "<table border=\"1\" class=\"dataframe\">\n",
              "  <thead>\n",
              "    <tr style=\"text-align: right;\">\n",
              "      <th></th>\n",
              "      <th>Date</th>\n",
              "      <th>Gold_Price_gram</th>\n",
              "      <th>Silver_Price_gram</th>\n",
              "      <th>USD_rate</th>\n",
              "      <th>Crude_oil</th>\n",
              "      <th>Fuel_Price</th>\n",
              "    </tr>\n",
              "  </thead>\n",
              "  <tbody>\n",
              "    <tr>\n",
              "      <th>0</th>\n",
              "      <td>1/1/2016</td>\n",
              "      <td>4913.36</td>\n",
              "      <td>64.271</td>\n",
              "      <td>144.48</td>\n",
              "      <td>3903.82</td>\n",
              "      <td>117</td>\n",
              "    </tr>\n",
              "    <tr>\n",
              "      <th>1</th>\n",
              "      <td>1/4/2016</td>\n",
              "      <td>4935.38</td>\n",
              "      <td>64.694</td>\n",
              "      <td>144.69</td>\n",
              "      <td>3909.62</td>\n",
              "      <td>117</td>\n",
              "    </tr>\n",
              "    <tr>\n",
              "      <th>2</th>\n",
              "      <td>1/5/2016</td>\n",
              "      <td>4989.30</td>\n",
              "      <td>64.905</td>\n",
              "      <td>144.35</td>\n",
              "      <td>3900.33</td>\n",
              "      <td>117</td>\n",
              "    </tr>\n",
              "    <tr>\n",
              "      <th>3</th>\n",
              "      <td>1/6/2016</td>\n",
              "      <td>4990.05</td>\n",
              "      <td>64.697</td>\n",
              "      <td>143.98</td>\n",
              "      <td>3890.23</td>\n",
              "      <td>117</td>\n",
              "    </tr>\n",
              "    <tr>\n",
              "      <th>4</th>\n",
              "      <td>1/7/2016</td>\n",
              "      <td>5090.48</td>\n",
              "      <td>65.866</td>\n",
              "      <td>143.51</td>\n",
              "      <td>3877.76</td>\n",
              "      <td>117</td>\n",
              "    </tr>\n",
              "  </tbody>\n",
              "</table>\n",
              "</div>\n",
              "      <button class=\"colab-df-convert\" onclick=\"convertToInteractive('df-07d1b97f-4d5e-4e40-85fd-928612b1e173')\"\n",
              "              title=\"Convert this dataframe to an interactive table.\"\n",
              "              style=\"display:none;\">\n",
              "        \n",
              "  <svg xmlns=\"http://www.w3.org/2000/svg\" height=\"24px\"viewBox=\"0 0 24 24\"\n",
              "       width=\"24px\">\n",
              "    <path d=\"M0 0h24v24H0V0z\" fill=\"none\"/>\n",
              "    <path d=\"M18.56 5.44l.94 2.06.94-2.06 2.06-.94-2.06-.94-.94-2.06-.94 2.06-2.06.94zm-11 1L8.5 8.5l.94-2.06 2.06-.94-2.06-.94L8.5 2.5l-.94 2.06-2.06.94zm10 10l.94 2.06.94-2.06 2.06-.94-2.06-.94-.94-2.06-.94 2.06-2.06.94z\"/><path d=\"M17.41 7.96l-1.37-1.37c-.4-.4-.92-.59-1.43-.59-.52 0-1.04.2-1.43.59L10.3 9.45l-7.72 7.72c-.78.78-.78 2.05 0 2.83L4 21.41c.39.39.9.59 1.41.59.51 0 1.02-.2 1.41-.59l7.78-7.78 2.81-2.81c.8-.78.8-2.07 0-2.86zM5.41 20L4 18.59l7.72-7.72 1.47 1.35L5.41 20z\"/>\n",
              "  </svg>\n",
              "      </button>\n",
              "      \n",
              "  <style>\n",
              "    .colab-df-container {\n",
              "      display:flex;\n",
              "      flex-wrap:wrap;\n",
              "      gap: 12px;\n",
              "    }\n",
              "\n",
              "    .colab-df-convert {\n",
              "      background-color: #E8F0FE;\n",
              "      border: none;\n",
              "      border-radius: 50%;\n",
              "      cursor: pointer;\n",
              "      display: none;\n",
              "      fill: #1967D2;\n",
              "      height: 32px;\n",
              "      padding: 0 0 0 0;\n",
              "      width: 32px;\n",
              "    }\n",
              "\n",
              "    .colab-df-convert:hover {\n",
              "      background-color: #E2EBFA;\n",
              "      box-shadow: 0px 1px 2px rgba(60, 64, 67, 0.3), 0px 1px 3px 1px rgba(60, 64, 67, 0.15);\n",
              "      fill: #174EA6;\n",
              "    }\n",
              "\n",
              "    [theme=dark] .colab-df-convert {\n",
              "      background-color: #3B4455;\n",
              "      fill: #D2E3FC;\n",
              "    }\n",
              "\n",
              "    [theme=dark] .colab-df-convert:hover {\n",
              "      background-color: #434B5C;\n",
              "      box-shadow: 0px 1px 3px 1px rgba(0, 0, 0, 0.15);\n",
              "      filter: drop-shadow(0px 1px 2px rgba(0, 0, 0, 0.3));\n",
              "      fill: #FFFFFF;\n",
              "    }\n",
              "  </style>\n",
              "\n",
              "      <script>\n",
              "        const buttonEl =\n",
              "          document.querySelector('#df-07d1b97f-4d5e-4e40-85fd-928612b1e173 button.colab-df-convert');\n",
              "        buttonEl.style.display =\n",
              "          google.colab.kernel.accessAllowed ? 'block' : 'none';\n",
              "\n",
              "        async function convertToInteractive(key) {\n",
              "          const element = document.querySelector('#df-07d1b97f-4d5e-4e40-85fd-928612b1e173');\n",
              "          const dataTable =\n",
              "            await google.colab.kernel.invokeFunction('convertToInteractive',\n",
              "                                                     [key], {});\n",
              "          if (!dataTable) return;\n",
              "\n",
              "          const docLinkHtml = 'Like what you see? Visit the ' +\n",
              "            '<a target=\"_blank\" href=https://colab.research.google.com/notebooks/data_table.ipynb>data table notebook</a>'\n",
              "            + ' to learn more about interactive tables.';\n",
              "          element.innerHTML = '';\n",
              "          dataTable['output_type'] = 'display_data';\n",
              "          await google.colab.output.renderOutput(dataTable, element);\n",
              "          const docLink = document.createElement('div');\n",
              "          docLink.innerHTML = docLinkHtml;\n",
              "          element.appendChild(docLink);\n",
              "        }\n",
              "      </script>\n",
              "    </div>\n",
              "  </div>\n",
              "  "
            ],
            "text/plain": [
              "       Date  Gold_Price_gram  Silver_Price_gram  USD_rate  Crude_oil  \\\n",
              "0  1/1/2016          4913.36             64.271    144.48    3903.82   \n",
              "1  1/4/2016          4935.38             64.694    144.69    3909.62   \n",
              "2  1/5/2016          4989.30             64.905    144.35    3900.33   \n",
              "3  1/6/2016          4990.05             64.697    143.98    3890.23   \n",
              "4  1/7/2016          5090.48             65.866    143.51    3877.76   \n",
              "\n",
              "   Fuel_Price  \n",
              "0         117  \n",
              "1         117  \n",
              "2         117  \n",
              "3         117  \n",
              "4         117  "
            ]
          },
          "execution_count": 3,
          "metadata": {},
          "output_type": "execute_result"
        }
      ],
      "source": [
        "# print first 5 rows in the dataframe\n",
        "gold_data.head()"
      ]
    },
    {
      "cell_type": "code",
      "execution_count": null,
      "metadata": {
        "colab": {
          "base_uri": "https://localhost:8080/",
          "height": 206
        },
        "id": "fjkHhrxZARQY",
        "outputId": "8bd5e6fe-f68c-47b5-8aa9-47ceed9c7c96"
      },
      "outputs": [
        {
          "data": {
            "text/html": [
              "\n",
              "  <div id=\"df-20c3e168-7802-46db-ae08-096b293d711c\">\n",
              "    <div class=\"colab-df-container\">\n",
              "      <div>\n",
              "<style scoped>\n",
              "    .dataframe tbody tr th:only-of-type {\n",
              "        vertical-align: middle;\n",
              "    }\n",
              "\n",
              "    .dataframe tbody tr th {\n",
              "        vertical-align: top;\n",
              "    }\n",
              "\n",
              "    .dataframe thead th {\n",
              "        text-align: right;\n",
              "    }\n",
              "</style>\n",
              "<table border=\"1\" class=\"dataframe\">\n",
              "  <thead>\n",
              "    <tr style=\"text-align: right;\">\n",
              "      <th></th>\n",
              "      <th>Date</th>\n",
              "      <th>Gold_Price_gram</th>\n",
              "      <th>Silver_Price_gram</th>\n",
              "      <th>USD_rate</th>\n",
              "      <th>Crude_oil</th>\n",
              "      <th>Fuel_Price</th>\n",
              "    </tr>\n",
              "  </thead>\n",
              "  <tbody>\n",
              "    <tr>\n",
              "      <th>1620</th>\n",
              "      <td>9/26/2022</td>\n",
              "      <td>19150.40</td>\n",
              "      <td>213.75</td>\n",
              "      <td>362.08</td>\n",
              "      <td>32387.77</td>\n",
              "      <td>450</td>\n",
              "    </tr>\n",
              "    <tr>\n",
              "      <th>1621</th>\n",
              "      <td>9/27/2022</td>\n",
              "      <td>19018.19</td>\n",
              "      <td>215.31</td>\n",
              "      <td>363.76</td>\n",
              "      <td>32538.44</td>\n",
              "      <td>450</td>\n",
              "    </tr>\n",
              "    <tr>\n",
              "      <th>1622</th>\n",
              "      <td>9/28/2022</td>\n",
              "      <td>18951.18</td>\n",
              "      <td>221.70</td>\n",
              "      <td>364.78</td>\n",
              "      <td>32629.82</td>\n",
              "      <td>450</td>\n",
              "    </tr>\n",
              "    <tr>\n",
              "      <th>1623</th>\n",
              "      <td>9/29/2022</td>\n",
              "      <td>19307.73</td>\n",
              "      <td>217.70</td>\n",
              "      <td>359.78</td>\n",
              "      <td>32182.54</td>\n",
              "      <td>450</td>\n",
              "    </tr>\n",
              "    <tr>\n",
              "      <th>1624</th>\n",
              "      <td>9/30/2022</td>\n",
              "      <td>19379.72</td>\n",
              "      <td>223.74</td>\n",
              "      <td>366.40</td>\n",
              "      <td>32774.39</td>\n",
              "      <td>450</td>\n",
              "    </tr>\n",
              "  </tbody>\n",
              "</table>\n",
              "</div>\n",
              "      <button class=\"colab-df-convert\" onclick=\"convertToInteractive('df-20c3e168-7802-46db-ae08-096b293d711c')\"\n",
              "              title=\"Convert this dataframe to an interactive table.\"\n",
              "              style=\"display:none;\">\n",
              "        \n",
              "  <svg xmlns=\"http://www.w3.org/2000/svg\" height=\"24px\"viewBox=\"0 0 24 24\"\n",
              "       width=\"24px\">\n",
              "    <path d=\"M0 0h24v24H0V0z\" fill=\"none\"/>\n",
              "    <path d=\"M18.56 5.44l.94 2.06.94-2.06 2.06-.94-2.06-.94-.94-2.06-.94 2.06-2.06.94zm-11 1L8.5 8.5l.94-2.06 2.06-.94-2.06-.94L8.5 2.5l-.94 2.06-2.06.94zm10 10l.94 2.06.94-2.06 2.06-.94-2.06-.94-.94-2.06-.94 2.06-2.06.94z\"/><path d=\"M17.41 7.96l-1.37-1.37c-.4-.4-.92-.59-1.43-.59-.52 0-1.04.2-1.43.59L10.3 9.45l-7.72 7.72c-.78.78-.78 2.05 0 2.83L4 21.41c.39.39.9.59 1.41.59.51 0 1.02-.2 1.41-.59l7.78-7.78 2.81-2.81c.8-.78.8-2.07 0-2.86zM5.41 20L4 18.59l7.72-7.72 1.47 1.35L5.41 20z\"/>\n",
              "  </svg>\n",
              "      </button>\n",
              "      \n",
              "  <style>\n",
              "    .colab-df-container {\n",
              "      display:flex;\n",
              "      flex-wrap:wrap;\n",
              "      gap: 12px;\n",
              "    }\n",
              "\n",
              "    .colab-df-convert {\n",
              "      background-color: #E8F0FE;\n",
              "      border: none;\n",
              "      border-radius: 50%;\n",
              "      cursor: pointer;\n",
              "      display: none;\n",
              "      fill: #1967D2;\n",
              "      height: 32px;\n",
              "      padding: 0 0 0 0;\n",
              "      width: 32px;\n",
              "    }\n",
              "\n",
              "    .colab-df-convert:hover {\n",
              "      background-color: #E2EBFA;\n",
              "      box-shadow: 0px 1px 2px rgba(60, 64, 67, 0.3), 0px 1px 3px 1px rgba(60, 64, 67, 0.15);\n",
              "      fill: #174EA6;\n",
              "    }\n",
              "\n",
              "    [theme=dark] .colab-df-convert {\n",
              "      background-color: #3B4455;\n",
              "      fill: #D2E3FC;\n",
              "    }\n",
              "\n",
              "    [theme=dark] .colab-df-convert:hover {\n",
              "      background-color: #434B5C;\n",
              "      box-shadow: 0px 1px 3px 1px rgba(0, 0, 0, 0.15);\n",
              "      filter: drop-shadow(0px 1px 2px rgba(0, 0, 0, 0.3));\n",
              "      fill: #FFFFFF;\n",
              "    }\n",
              "  </style>\n",
              "\n",
              "      <script>\n",
              "        const buttonEl =\n",
              "          document.querySelector('#df-20c3e168-7802-46db-ae08-096b293d711c button.colab-df-convert');\n",
              "        buttonEl.style.display =\n",
              "          google.colab.kernel.accessAllowed ? 'block' : 'none';\n",
              "\n",
              "        async function convertToInteractive(key) {\n",
              "          const element = document.querySelector('#df-20c3e168-7802-46db-ae08-096b293d711c');\n",
              "          const dataTable =\n",
              "            await google.colab.kernel.invokeFunction('convertToInteractive',\n",
              "                                                     [key], {});\n",
              "          if (!dataTable) return;\n",
              "\n",
              "          const docLinkHtml = 'Like what you see? Visit the ' +\n",
              "            '<a target=\"_blank\" href=https://colab.research.google.com/notebooks/data_table.ipynb>data table notebook</a>'\n",
              "            + ' to learn more about interactive tables.';\n",
              "          element.innerHTML = '';\n",
              "          dataTable['output_type'] = 'display_data';\n",
              "          await google.colab.output.renderOutput(dataTable, element);\n",
              "          const docLink = document.createElement('div');\n",
              "          docLink.innerHTML = docLinkHtml;\n",
              "          element.appendChild(docLink);\n",
              "        }\n",
              "      </script>\n",
              "    </div>\n",
              "  </div>\n",
              "  "
            ],
            "text/plain": [
              "           Date  Gold_Price_gram  Silver_Price_gram  USD_rate  Crude_oil  \\\n",
              "1620  9/26/2022         19150.40             213.75    362.08   32387.77   \n",
              "1621  9/27/2022         19018.19             215.31    363.76   32538.44   \n",
              "1622  9/28/2022         18951.18             221.70    364.78   32629.82   \n",
              "1623  9/29/2022         19307.73             217.70    359.78   32182.54   \n",
              "1624  9/30/2022         19379.72             223.74    366.40   32774.39   \n",
              "\n",
              "      Fuel_Price  \n",
              "1620         450  \n",
              "1621         450  \n",
              "1622         450  \n",
              "1623         450  \n",
              "1624         450  "
            ]
          },
          "execution_count": 4,
          "metadata": {},
          "output_type": "execute_result"
        }
      ],
      "source": [
        "# print last 5 rows of the dataframe\n",
        "gold_data.tail()"
      ]
    },
    {
      "cell_type": "code",
      "execution_count": null,
      "metadata": {
        "colab": {
          "base_uri": "https://localhost:8080/"
        },
        "id": "tmN9iRpIAhsd",
        "outputId": "bdf6f22c-2d54-4e0e-8c67-748348185d31"
      },
      "outputs": [
        {
          "data": {
            "text/plain": [
              "(1625, 6)"
            ]
          },
          "execution_count": 5,
          "metadata": {},
          "output_type": "execute_result"
        }
      ],
      "source": [
        "# number of rows and columns\n",
        "gold_data.shape"
      ]
    },
    {
      "cell_type": "code",
      "execution_count": null,
      "metadata": {
        "colab": {
          "base_uri": "https://localhost:8080/"
        },
        "id": "ki61MKe3AlOB",
        "outputId": "66e42a6f-e39a-4ab5-8a9b-105d12d454e6"
      },
      "outputs": [
        {
          "name": "stdout",
          "output_type": "stream",
          "text": [
            "<class 'pandas.core.frame.DataFrame'>\n",
            "RangeIndex: 1625 entries, 0 to 1624\n",
            "Data columns (total 6 columns):\n",
            " #   Column             Non-Null Count  Dtype  \n",
            "---  ------             --------------  -----  \n",
            " 0   Date               1625 non-null   object \n",
            " 1   Gold_Price_gram    1625 non-null   float64\n",
            " 2   Silver_Price_gram  1625 non-null   float64\n",
            " 3   USD_rate           1625 non-null   float64\n",
            " 4   Crude_oil          1625 non-null   float64\n",
            " 5   Fuel_Price         1625 non-null   int64  \n",
            "dtypes: float64(4), int64(1), object(1)\n",
            "memory usage: 76.3+ KB\n"
          ]
        }
      ],
      "source": [
        "# getting some basic informations about the data\n",
        "gold_data.info()\n"
      ]
    },
    {
      "cell_type": "code",
      "execution_count": null,
      "metadata": {
        "colab": {
          "base_uri": "https://localhost:8080/"
        },
        "id": "X3nJTk5OAxgK",
        "outputId": "2e809396-4505-427d-f31e-f472c24ed6ff"
      },
      "outputs": [
        {
          "data": {
            "text/plain": [
              "Date                 0\n",
              "Gold_Price_gram      0\n",
              "Silver_Price_gram    0\n",
              "USD_rate             0\n",
              "Crude_oil            0\n",
              "Fuel_Price           0\n",
              "dtype: int64"
            ]
          },
          "execution_count": 7,
          "metadata": {},
          "output_type": "execute_result"
        }
      ],
      "source": [
        "# checking the number of missing values\n",
        "gold_data.isnull().sum()"
      ]
    },
    {
      "cell_type": "code",
      "execution_count": null,
      "metadata": {
        "colab": {
          "base_uri": "https://localhost:8080/",
          "height": 300
        },
        "id": "vM1PAdieA-d2",
        "outputId": "39da4c06-f0b6-45e5-b9a9-ac0062ee10f0"
      },
      "outputs": [
        {
          "data": {
            "text/html": [
              "\n",
              "  <div id=\"df-2a28df59-4bc5-4b9a-b5a5-1bb48a5fff4c\">\n",
              "    <div class=\"colab-df-container\">\n",
              "      <div>\n",
              "<style scoped>\n",
              "    .dataframe tbody tr th:only-of-type {\n",
              "        vertical-align: middle;\n",
              "    }\n",
              "\n",
              "    .dataframe tbody tr th {\n",
              "        vertical-align: top;\n",
              "    }\n",
              "\n",
              "    .dataframe thead th {\n",
              "        text-align: right;\n",
              "    }\n",
              "</style>\n",
              "<table border=\"1\" class=\"dataframe\">\n",
              "  <thead>\n",
              "    <tr style=\"text-align: right;\">\n",
              "      <th></th>\n",
              "      <th>Gold_Price_gram</th>\n",
              "      <th>Silver_Price_gram</th>\n",
              "      <th>USD_rate</th>\n",
              "      <th>Crude_oil</th>\n",
              "      <th>Fuel_Price</th>\n",
              "    </tr>\n",
              "  </thead>\n",
              "  <tbody>\n",
              "    <tr>\n",
              "      <th>count</th>\n",
              "      <td>1625.000000</td>\n",
              "      <td>1625.000000</td>\n",
              "      <td>1625.000000</td>\n",
              "      <td>1625.000000</td>\n",
              "      <td>1625.000000</td>\n",
              "    </tr>\n",
              "    <tr>\n",
              "      <th>mean</th>\n",
              "      <td>9240.666375</td>\n",
              "      <td>116.300788</td>\n",
              "      <td>186.352800</td>\n",
              "      <td>11294.151255</td>\n",
              "      <td>154.720615</td>\n",
              "    </tr>\n",
              "    <tr>\n",
              "      <th>std</th>\n",
              "      <td>3989.087532</td>\n",
              "      <td>47.930063</td>\n",
              "      <td>52.729965</td>\n",
              "      <td>8049.449732</td>\n",
              "      <td>77.634514</td>\n",
              "    </tr>\n",
              "    <tr>\n",
              "      <th>min</th>\n",
              "      <td>4913.360000</td>\n",
              "      <td>63.682000</td>\n",
              "      <td>142.850000</td>\n",
              "      <td>2877.260000</td>\n",
              "      <td>117.000000</td>\n",
              "    </tr>\n",
              "    <tr>\n",
              "      <th>25%</th>\n",
              "      <td>6269.500000</td>\n",
              "      <td>82.911000</td>\n",
              "      <td>153.220000</td>\n",
              "      <td>6891.240000</td>\n",
              "      <td>117.000000</td>\n",
              "    </tr>\n",
              "    <tr>\n",
              "      <th>50%</th>\n",
              "      <td>7589.890000</td>\n",
              "      <td>91.343000</td>\n",
              "      <td>178.600000</td>\n",
              "      <td>9501.130000</td>\n",
              "      <td>137.000000</td>\n",
              "    </tr>\n",
              "    <tr>\n",
              "      <th>75%</th>\n",
              "      <td>11334.140000</td>\n",
              "      <td>150.120000</td>\n",
              "      <td>193.510000</td>\n",
              "      <td>11071.140000</td>\n",
              "      <td>140.000000</td>\n",
              "    </tr>\n",
              "    <tr>\n",
              "      <th>max</th>\n",
              "      <td>21999.430000</td>\n",
              "      <td>270.590000</td>\n",
              "      <td>369.030000</td>\n",
              "      <td>41187.020000</td>\n",
              "      <td>470.000000</td>\n",
              "    </tr>\n",
              "  </tbody>\n",
              "</table>\n",
              "</div>\n",
              "      <button class=\"colab-df-convert\" onclick=\"convertToInteractive('df-2a28df59-4bc5-4b9a-b5a5-1bb48a5fff4c')\"\n",
              "              title=\"Convert this dataframe to an interactive table.\"\n",
              "              style=\"display:none;\">\n",
              "        \n",
              "  <svg xmlns=\"http://www.w3.org/2000/svg\" height=\"24px\"viewBox=\"0 0 24 24\"\n",
              "       width=\"24px\">\n",
              "    <path d=\"M0 0h24v24H0V0z\" fill=\"none\"/>\n",
              "    <path d=\"M18.56 5.44l.94 2.06.94-2.06 2.06-.94-2.06-.94-.94-2.06-.94 2.06-2.06.94zm-11 1L8.5 8.5l.94-2.06 2.06-.94-2.06-.94L8.5 2.5l-.94 2.06-2.06.94zm10 10l.94 2.06.94-2.06 2.06-.94-2.06-.94-.94-2.06-.94 2.06-2.06.94z\"/><path d=\"M17.41 7.96l-1.37-1.37c-.4-.4-.92-.59-1.43-.59-.52 0-1.04.2-1.43.59L10.3 9.45l-7.72 7.72c-.78.78-.78 2.05 0 2.83L4 21.41c.39.39.9.59 1.41.59.51 0 1.02-.2 1.41-.59l7.78-7.78 2.81-2.81c.8-.78.8-2.07 0-2.86zM5.41 20L4 18.59l7.72-7.72 1.47 1.35L5.41 20z\"/>\n",
              "  </svg>\n",
              "      </button>\n",
              "      \n",
              "  <style>\n",
              "    .colab-df-container {\n",
              "      display:flex;\n",
              "      flex-wrap:wrap;\n",
              "      gap: 12px;\n",
              "    }\n",
              "\n",
              "    .colab-df-convert {\n",
              "      background-color: #E8F0FE;\n",
              "      border: none;\n",
              "      border-radius: 50%;\n",
              "      cursor: pointer;\n",
              "      display: none;\n",
              "      fill: #1967D2;\n",
              "      height: 32px;\n",
              "      padding: 0 0 0 0;\n",
              "      width: 32px;\n",
              "    }\n",
              "\n",
              "    .colab-df-convert:hover {\n",
              "      background-color: #E2EBFA;\n",
              "      box-shadow: 0px 1px 2px rgba(60, 64, 67, 0.3), 0px 1px 3px 1px rgba(60, 64, 67, 0.15);\n",
              "      fill: #174EA6;\n",
              "    }\n",
              "\n",
              "    [theme=dark] .colab-df-convert {\n",
              "      background-color: #3B4455;\n",
              "      fill: #D2E3FC;\n",
              "    }\n",
              "\n",
              "    [theme=dark] .colab-df-convert:hover {\n",
              "      background-color: #434B5C;\n",
              "      box-shadow: 0px 1px 3px 1px rgba(0, 0, 0, 0.15);\n",
              "      filter: drop-shadow(0px 1px 2px rgba(0, 0, 0, 0.3));\n",
              "      fill: #FFFFFF;\n",
              "    }\n",
              "  </style>\n",
              "\n",
              "      <script>\n",
              "        const buttonEl =\n",
              "          document.querySelector('#df-2a28df59-4bc5-4b9a-b5a5-1bb48a5fff4c button.colab-df-convert');\n",
              "        buttonEl.style.display =\n",
              "          google.colab.kernel.accessAllowed ? 'block' : 'none';\n",
              "\n",
              "        async function convertToInteractive(key) {\n",
              "          const element = document.querySelector('#df-2a28df59-4bc5-4b9a-b5a5-1bb48a5fff4c');\n",
              "          const dataTable =\n",
              "            await google.colab.kernel.invokeFunction('convertToInteractive',\n",
              "                                                     [key], {});\n",
              "          if (!dataTable) return;\n",
              "\n",
              "          const docLinkHtml = 'Like what you see? Visit the ' +\n",
              "            '<a target=\"_blank\" href=https://colab.research.google.com/notebooks/data_table.ipynb>data table notebook</a>'\n",
              "            + ' to learn more about interactive tables.';\n",
              "          element.innerHTML = '';\n",
              "          dataTable['output_type'] = 'display_data';\n",
              "          await google.colab.output.renderOutput(dataTable, element);\n",
              "          const docLink = document.createElement('div');\n",
              "          docLink.innerHTML = docLinkHtml;\n",
              "          element.appendChild(docLink);\n",
              "        }\n",
              "      </script>\n",
              "    </div>\n",
              "  </div>\n",
              "  "
            ],
            "text/plain": [
              "       Gold_Price_gram  Silver_Price_gram     USD_rate     Crude_oil  \\\n",
              "count      1625.000000        1625.000000  1625.000000   1625.000000   \n",
              "mean       9240.666375         116.300788   186.352800  11294.151255   \n",
              "std        3989.087532          47.930063    52.729965   8049.449732   \n",
              "min        4913.360000          63.682000   142.850000   2877.260000   \n",
              "25%        6269.500000          82.911000   153.220000   6891.240000   \n",
              "50%        7589.890000          91.343000   178.600000   9501.130000   \n",
              "75%       11334.140000         150.120000   193.510000  11071.140000   \n",
              "max       21999.430000         270.590000   369.030000  41187.020000   \n",
              "\n",
              "        Fuel_Price  \n",
              "count  1625.000000  \n",
              "mean    154.720615  \n",
              "std      77.634514  \n",
              "min     117.000000  \n",
              "25%     117.000000  \n",
              "50%     137.000000  \n",
              "75%     140.000000  \n",
              "max     470.000000  "
            ]
          },
          "execution_count": 8,
          "metadata": {},
          "output_type": "execute_result"
        }
      ],
      "source": [
        "# getting the statistical measures of the data\n",
        "gold_data.describe()"
      ]
    },
    {
      "cell_type": "markdown",
      "metadata": {
        "id": "H5UEih31BEIc"
      },
      "source": [
        "Correlation:\n",
        "\n",
        "Positive Correlation\n",
        "Negative Correlation"
      ]
    },
    {
      "cell_type": "code",
      "execution_count": null,
      "metadata": {
        "id": "hR4ZrDZ6BE2M"
      },
      "outputs": [],
      "source": [
        "correlation = gold_data.corr()"
      ]
    },
    {
      "cell_type": "code",
      "execution_count": null,
      "metadata": {
        "colab": {
          "base_uri": "https://localhost:8080/",
          "height": 544
        },
        "id": "lKE_qQ4PBOBE",
        "outputId": "1d7399d8-512c-4566-d3c8-05c6f056f31b"
      },
      "outputs": [
        {
          "data": {
            "text/plain": [
              "<matplotlib.axes._subplots.AxesSubplot at 0x7f5ebc651d10>"
            ]
          },
          "execution_count": 10,
          "metadata": {},
          "output_type": "execute_result"
        },
        {
          "data": {
            "image/png": "[encoded data removed]",
            "text/plain": [
              "<Figure size 576x576 with 2 Axes>"
            ]
          },
          "metadata": {
            "needs_background": "light"
          },
          "output_type": "display_data"
        }
      ],
      "source": [
        "# constructing a heatmap to understand the correlatiom\n",
        "plt.figure(figsize = (8,8))\n",
        "sns.heatmap(correlation, cbar=True, square=True, fmt='.1f',annot=True, annot_kws={'size':8}, cmap='Blues')"
      ]
    },
    {
      "cell_type": "code",
      "execution_count": null,
      "metadata": {
        "colab": {
          "base_uri": "https://localhost:8080/"
        },
        "id": "cLaylvmSB88L",
        "outputId": "92fa1d5e-5557-4306-af2c-e4542a972211"
      },
      "outputs": [
        {
          "name": "stdout",
          "output_type": "stream",
          "text": [
            "Gold_Price_gram      1.000000\n",
            "Silver_Price_gram    0.962143\n",
            "USD_rate             0.957512\n",
            "Crude_oil            0.881519\n",
            "Fuel_Price           0.869741\n",
            "Name: Gold_Price_gram, dtype: float64\n"
          ]
        }
      ],
      "source": [
        "# correlation values of GLD\n",
        "print(correlation['Gold_Price_gram'])"
      ]
    },
    {
      "cell_type": "code",
      "execution_count": null,
      "metadata": {
        "colab": {
          "base_uri": "https://localhost:8080/"
        },
        "id": "Q3V7VQ2vjXaz",
        "outputId": "6c8c62cc-b211-41de-bd73-6989491887b7"
      },
      "outputs": [
        {
          "name": "stdout",
          "output_type": "stream",
          "text": [
            "Drive already mounted at /content/drive; to attempt to forcibly remount, call drive.mount(\"/content/drive\", force_remount=True).\n"
          ]
        }
      ],
      "source": [
        "from google.colab import drive\n",
        "drive.mount('/content/drive')"
      ]
    },
    {
      "cell_type": "code",
      "execution_count": null,
      "metadata": {
        "colab": {
          "base_uri": "https://localhost:8080/",
          "height": 352
        },
        "id": "ayk2SDG9CjdT",
        "outputId": "6bdeedbb-126b-42cf-e45a-555b96f8a71b"
      },
      "outputs": [
        {
          "name": "stderr",
          "output_type": "stream",
          "text": [
            "/usr/local/lib/python3.7/dist-packages/seaborn/distributions.py:2619: FutureWarning: `distplot` is a deprecated function and will be removed in a future version. Please adapt your code to use either `displot` (a figure-level function with similar flexibility) or `histplot` (an axes-level function for histograms).\n",
            "  warnings.warn(msg, FutureWarning)\n"
          ]
        },
        {
          "data": {
            "text/plain": [
              "<matplotlib.axes._subplots.AxesSubplot at 0x7f5eb981abd0>"
            ]
          },
          "execution_count": 13,
          "metadata": {},
          "output_type": "execute_result"
        },
        {
          "data": {
            "image/png": "[encoded data removed]",
            "text/plain": [
              "<Figure size 432x288 with 1 Axes>"
            ]
          },
          "metadata": {
            "needs_background": "light"
          },
          "output_type": "display_data"
        }
      ],
      "source": [
        "# checking the distribution of the GLD Price\n",
        "sns.distplot(gold_data['Gold_Price_gram'],color='green')"
      ]
    },
    {
      "cell_type": "markdown",
      "metadata": {
        "id": "SYXLxME0CqDx"
      },
      "source": [
        "Splitting the Features and Target"
      ]
    },
    {
      "cell_type": "code",
      "execution_count": null,
      "metadata": {
        "id": "OyqnzPU5IejC"
      },
      "outputs": [],
      "source": [
        "X = gold_data.drop(['Date','Gold_Price_gram','Fuel_Price'],axis=1)\n",
        "Y = gold_data['Gold_Price_gram']"
      ]
    },
    {
      "cell_type": "code",
      "execution_count": null,
      "metadata": {
        "colab": {
          "base_uri": "https://localhost:8080/"
        },
        "id": "na8zLZ0nIyao",
        "outputId": "d70615ed-af5d-4a6b-e83f-ddabdaa11642"
      },
      "outputs": [
        {
          "name": "stdout",
          "output_type": "stream",
          "text": [
            "      Silver_Price_gram  USD_rate  Crude_oil\n",
            "0                64.271    144.48    3903.82\n",
            "1                64.694    144.69    3909.62\n",
            "2                64.905    144.35    3900.33\n",
            "3                64.697    143.98    3890.23\n",
            "4                65.866    143.51    3877.76\n",
            "...                 ...       ...        ...\n",
            "1620            213.750    362.08   32387.77\n",
            "1621            215.310    363.76   32538.44\n",
            "1622            221.700    364.78   32629.82\n",
            "1623            217.700    359.78   32182.54\n",
            "1624            223.740    366.40   32774.39\n",
            "\n",
            "[1625 rows x 3 columns]\n"
          ]
        }
      ],
      "source": [
        "print(X)"
      ]
    },
    {
      "cell_type": "code",
      "execution_count": null,
      "metadata": {
        "colab": {
          "base_uri": "https://localhost:8080/"
        },
        "id": "vEr_ge9eI4z-",
        "outputId": "cabf843f-b6cf-4c9d-be71-fa98b1e6569a"
      },
      "outputs": [
        {
          "name": "stdout",
          "output_type": "stream",
          "text": [
            "0        4913.36\n",
            "1        4935.38\n",
            "2        4989.30\n",
            "3        4990.05\n",
            "4        5090.48\n",
            "          ...   \n",
            "1620    19150.40\n",
            "1621    19018.19\n",
            "1622    18951.18\n",
            "1623    19307.73\n",
            "1624    19379.72\n",
            "Name: Gold_Price_gram, Length: 1625, dtype: float64\n"
          ]
        }
      ],
      "source": [
        "print(Y)"
      ]
    },
    {
      "cell_type": "markdown",
      "metadata": {
        "id": "bWVm_eALI9Bl"
      },
      "source": [
        "Splitting into Training data and Test Data"
      ]
    },
    {
      "cell_type": "code",
      "execution_count": null,
      "metadata": {
        "id": "z055sVfgI_E9"
      },
      "outputs": [],
      "source": [
        "X_train, X_test, Y_train, Y_test = train_test_split(X, Y, test_size = 0.2, random_state=2)"
      ]
    },
    {
      "cell_type": "markdown",
      "metadata": {
        "id": "BXZI74trJOLC"
      },
      "source": [
        "Model Training: Random Forest Regressor"
      ]
    },
    {
      "cell_type": "code",
      "execution_count": null,
      "metadata": {
        "id": "NcOlFvHlJOs6"
      },
      "outputs": [],
      "source": [
        "regressor = RandomForestRegressor(n_estimators=100)"
      ]
    },
    {
      "cell_type": "code",
      "execution_count": null,
      "metadata": {
        "colab": {
          "base_uri": "https://localhost:8080/"
        },
        "id": "lLdkZg83JSzq",
        "outputId": "1c0b5383-3f6d-431d-dcee-e7ff814c28f9"
      },
      "outputs": [
        {
          "data": {
            "text/plain": [
              "RandomForestRegressor()"
            ]
          },
          "execution_count": 19,
          "metadata": {},
          "output_type": "execute_result"
        }
      ],
      "source": [
        "# training the model\n",
        "regressor.fit(X_train,Y_train)"
      ]
    },
    {
      "cell_type": "markdown",
      "metadata": {
        "id": "9MJuIMrXJfwy"
      },
      "source": [
        "Model Evaluation"
      ]
    },
    {
      "cell_type": "code",
      "execution_count": null,
      "metadata": {
        "id": "jGCJnWt4JgPi"
      },
      "outputs": [],
      "source": [
        "# prediction on Test Data\n",
        "test_data_prediction = regressor.predict(X_test)"
      ]
    },
    {
      "cell_type": "code",
      "execution_count": null,
      "metadata": {
        "colab": {
          "base_uri": "https://localhost:8080/"
        },
        "id": "7vGoVEz6JrB4",
        "outputId": "f495852a-c288-4ef0-e72a-9562fcd60a29"
      },
      "outputs": [
        {
          "name": "stdout",
          "output_type": "stream",
          "text": [
            "[ 8751.3651  8517.6861 11489.3426 11217.1483  6577.924   5993.7053\n",
            " 21523.7878  6362.2184 11940.521  11294.0116  6247.9391  6237.1552\n",
            "  5992.1919 11036.0278 16162.2599 10519.4344  8702.4601  7070.7748\n",
            " 11350.0666 10582.7109  6388.5507  6132.6808  8742.1661 11668.2412\n",
            " 11214.7162  6645.8712 10626.9048  6393.6509 18927.5221 11082.3709\n",
            "  6246.6406  7724.2835  7357.7366  6691.2447 12141.8577 11597.6898\n",
            " 20661.6066  8665.7028  6664.6162  8843.5482 11273.9703  6715.3855\n",
            "  5851.1924 11422.865   8785.5655 11287.5886  6690.0457  5876.1927\n",
            "  7848.1084  6573.7186  5875.5751 11717.7385  8042.3467  5616.294\n",
            "  6262.248   8545.7868 11413.4352  5659.1806  6318.0214  7268.0529\n",
            "  7723.0832  7916.291   6351.9205 11597.3369  5456.189  20531.9756\n",
            " 10912.7901 21302.6322  8731.262   6801.7194  6666.2068  6083.4595\n",
            "  5708.2687 18979.913   6234.2413 19893.8476 11607.1492 11021.6608\n",
            "  7075.8995 10487.2831  9479.0004 11355.0427  5822.0754  7685.5404\n",
            "  6708.5084  5988.8654  6339.3475  6266.6836  5447.7162  6665.0557\n",
            " 12114.6457  6258.7679 11204.6177 11418.3327  6278.8662 11906.0125\n",
            "  5477.3473  8934.4999 11608.5121  6670.1734 11455.9788 11237.2594\n",
            "  5084.094  21188.9387 12054.5075  6251.3289 11580.6433  6676.8028\n",
            "  6153.7297  9585.9683  6566.4354  6160.9455  5821.4323  5039.3971\n",
            " 10804.9729  5869.0389  6628.2508  8126.4359  6192.0291  7996.6212\n",
            " 11594.4615 11917.8712  6200.1171  6196.9575 11562.2797  8117.8283\n",
            " 19974.2816  7414.741   6057.7212 11437.9967 11356.9697  6254.2375\n",
            " 11489.8179  8569.5098  7205.9136  7497.2374  7520.4147 11351.8925\n",
            "  5698.0018  8950.1898  6791.4059 10714.3954  8550.87    6633.8648\n",
            "  5786.1862 11379.4838 19885.1617  6595.8699  5998.2182 11742.0683\n",
            "  6669.5621 11490.2657  6694.859   6234.2136 11274.9336 10753.0542\n",
            "  6655.6109  5685.0781  6327.6902 11106.4466  6133.6986  6125.7798\n",
            "  6661.6612 11397.383   7564.8694  6043.5472  7598.1553  6596.9494\n",
            "  9126.9012 10148.9201  7503.1928  5975.7938  7583.9575 11505.6209\n",
            " 11380.3798  6142.1564 11345.1262  5447.8011  7266.002  11627.361\n",
            "  5988.1652  5969.3472  6657.8498  9200.2026 11786.322   8550.1933\n",
            "  7243.7869  6635.4171  5732.4964 10743.559   6549.2876  6104.2629\n",
            " 11142.3201  8705.8364  5963.7067  5989.6603 11280.5231  8910.5143\n",
            "  9489.2955  6160.3915  5946.3533  5772.0479 12104.906  10977.1993\n",
            "  5649.2032  7515.2704  6299.9076  6059.6277  7086.5367  9197.4919\n",
            " 11286.2806  8691.9408 12092.6057  6312.5455  5877.2995 11279.7734\n",
            "  7681.1496  7235.0806  6279.7959  6330.4488  6156.4308 10768.6342\n",
            "  6277.3616  5974.2503  9033.762  11278.3958 12183.0159 11452.3196\n",
            " 10463.4746  5755.7393 11224.919   7256.279   6193.3539  5811.2226\n",
            " 18867.7615 11425.9523 21352.2252  8538.5539  6332.6577  6192.4211\n",
            " 11605.4084 10921.2215  5016.4773  6537.8499  6178.3649  8709.4374\n",
            "  5476.5314  6216.5089 11327.4683  6237.6773 10307.9742 10498.1961\n",
            "  5766.3503 11760.5157 21301.5615  6355.0274  9476.7355  7442.0835\n",
            " 12144.8587 19745.9803  6325.5457  5986.666  10347.3137  7563.5946\n",
            " 11519.264  11752.0245 11642.9779 11358.5728 11778.7321  6035.6156\n",
            "  6342.7985  5827.3499  5747.9459 20021.9598 11589.672   6210.3048\n",
            "  6259.4255 19568.2039  9087.6564  7253.6837 16396.3855 11761.3023\n",
            "  6209.3844 11516.4731 11687.3191  6227.5746  7359.5498 20568.6806\n",
            " 10913.7163  6179.9083 11430.1847 11580.9576  5685.1552  6166.3032\n",
            "  6542.8289 19356.1465  5153.8875 19927.124   7199.4023  6574.0019\n",
            "  6636.6841 20584.7142 21126.9732  6647.5814 11566.3997  5456.7987\n",
            "  6645.5201 10582.7246  8007.4083  5805.471   8709.6495 11654.9781\n",
            " 11681.2717  8718.7549 20445.7879  8472.4799  6028.3313  9728.2001\n",
            " 11601.0564  8656.6208 11687.6925  5941.3629 21454.2733  5973.8614\n",
            "  8806.8666]\n"
          ]
        }
      ],
      "source": [
        "print(test_data_prediction)"
      ]
    },
    {
      "cell_type": "code",
      "execution_count": null,
      "metadata": {
        "colab": {
          "base_uri": "https://localhost:8080/"
        },
        "id": "lwSU70v2JzFZ",
        "outputId": "9c1402e7-b910-43d6-9d33-028e9032f71b"
      },
      "outputs": [
        {
          "name": "stdout",
          "output_type": "stream",
          "text": [
            "R squared error :  0.9980201467101382\n"
          ]
        }
      ],
      "source": [
        "# R squared error\n",
        "error_score = metrics.r2_score(Y_test, test_data_prediction)\n",
        "print(\"R squared error : \", error_score)"
      ]
    },
    {
      "cell_type": "markdown",
      "metadata": {
        "id": "85NNhwVyJ8-n"
      },
      "source": [
        "Compare the Actual Values and Predicted Values in a Plot"
      ]
    },
    {
      "cell_type": "code",
      "execution_count": null,
      "metadata": {
        "id": "4e0rTJiAJ9li"
      },
      "outputs": [],
      "source": [
        "Y_test = list(Y_test)"
      ]
    },
    {
      "cell_type": "code",
      "execution_count": null,
      "metadata": {
        "colab": {
          "base_uri": "https://localhost:8080/",
          "height": 295
        },
        "id": "3BhRetLrKCcg",
        "outputId": "1d2dfc16-590b-427f-9f43-854ea9f184d3"
      },
      "outputs": [
        {
          "data": {
            "image/png": "[encoded data removed]",
            "text/plain": [
              "<Figure size 432x288 with 1 Axes>"
            ]
          },
          "metadata": {
            "needs_background": "light"
          },
          "output_type": "display_data"
        }
      ],
      "source": [
        "plt.plot(Y_test, color='blue', label = 'Actual Value')\n",
        "plt.plot(test_data_prediction, color='green', label='Predicted Value')\n",
        "plt.title('Actual Price vs Predicted Price')\n",
        "plt.xlabel('Number of values')\n",
        "plt.ylabel('GLD Price')\n",
        "plt.legend()\n",
        "plt.show()"
      ]
    },
    {
      "cell_type": "code",
      "execution_count": null,
      "metadata": {
        "id": "rvgxvlpVR74p"
      },
      "outputs": [],
      "source": [
        "import pickle"
      ]
    },
    {
      "cell_type": "code",
      "execution_count": null,
      "metadata": {
        "id": "l80fByOhTo5D"
      },
      "outputs": [],
      "source": [
        "pickle.dump(regressor, open('/content/RF_regressor.pkl', 'wb'))"
      ]
    }
  ],
  "metadata": {
    "colab": {
      "provenance": []
    },
    "kernelspec": {
      "display_name": "Python 3.10.4 64-bit",
      "language": "python",
      "name": "python3"
    },
    "language_info": {
      "name": "python",
      "version": "3.10.4"
    },
    "vscode": {
      "interpreter": {
        "hash": "76d7c06053c3456e5600312cec90888656fc0ed30c03d8425b9dac6e4fc8e014"
      }
    }
  },
  "nbformat": 4,
  "nbformat_minor": 0
}
